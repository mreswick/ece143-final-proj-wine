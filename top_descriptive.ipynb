{
 "cells": [
  {
   "cell_type": "code",
   "execution_count": 1,
   "id": "ebed401b-a098-4707-b17a-2bf2600a72f5",
   "metadata": {},
   "outputs": [],
   "source": [
    "import re\n",
    "from nltk.stem import WordNetLemmatizer\n",
    "import pandas as pd\n",
    "from tqdm import tqdm\n",
    "import spacy\n",
    "import ast      \n",
    "import seaborn as sns\n",
    "from matplotlib import pyplot as plt\n",
    "import colorcet as cc"
   ]
  },
  {
   "cell_type": "code",
   "execution_count": 2,
   "id": "1cde795b-55e9-4767-bf70-c2be4e0a0832",
   "metadata": {},
   "outputs": [],
   "source": [
    "# To generate data/adjectives_nouns. Takes 20-30 minutes to run\n",
    "\n",
    "# stopwords = ['i', 'me', 'my', 'myself', 'we', 'our', 'ours', 'ourselves', 'you', 'your', 'yours', 'yourself', \n",
    "#     'yourselves', 'he', 'him', 'his', 'himself', 'she', 'her', 'hers', 'herself', 'it', 'its', 'itself', \n",
    "#     'they', 'them', 'their', 'theirs', 'themselves', 'what', 'which', 'who', 'whom', 'this', 'that', 'these', \n",
    "#     'those', 'am', 'is', 'are', 'was', 'were', 'be', 'been', 'being', 'have', 'has', 'had', 'having', 'do', \n",
    "#     'does', 'did', 'doing', 'a', 'an', 'the', 'and', 'but', 'if', 'or', 'because', 'as', 'until', 'while', 'of',\n",
    "#     'at', 'by', 'for', 'with', 'about', 'against', 'between', 'into', 'through', 'during', 'before', 'after', \n",
    "#     'above', 'below', 'to', 'from', 'up', 'down', 'in', 'out', 'on', 'off', 'over', 'under', 'again', 'further', \n",
    "#     'then', 'once', 'here', 'there', 'when', 'where', 'why', 'how', 'all', 'any', 'both', 'each', 'few', 'more', \n",
    "#     'most', 'other', 'some', 'such', 'no', 'nor', 'not', 'only', 'own', 'same', 'so', 'than', 'too', 'very', 's', \n",
    "#     't', 'can', 'will', 'just', 'don', 'should', 'now']\n",
    "\n",
    "# def pre_process(sentence):\n",
    "#     \"\"\"\n",
    "#     stopwords removal, punctuations removal, stemming/lemmentizing\n",
    "#     \"\"\"\n",
    "    \n",
    "#     #remove punctuations\n",
    "#     pattern = re.compile(r'[^\\w\\s]')\n",
    "#     sent_cleaned = pattern.sub('',str(sentence).lower())\n",
    "    \n",
    "#     #remove stopping words, such as of, is, and, I, am, ...\n",
    "#     phrases_cleaned = ' '.join([i for i in sentence.split() if i not in stopwords])\n",
    "\n",
    "#     #stemming (no need lemmentization)\n",
    "#     lemmatizer = WordNetLemmatizer()\n",
    "#     phrases_cleaned = [' '.join([lemmatizer.lemmatize(i) for i in s.split()]) for s in phrases_cleaned]\n",
    "    \n",
    "#     return sentence\n",
    "\n",
    "# # Load English tokenizer, tagger, parser and NER\n",
    "# nlp = spacy.load(\"en_core_web_sm\")\n",
    "# #spacy.prefer_gpu()\n",
    "\n",
    "# tqdm.pandas()\n",
    "\n",
    "# def get_adjectives(text, tag_ = 'JJ'):\n",
    "#     blob = nlp(text)\n",
    "#     return [ token.lemma_ for token in blob if token.tag_ == tag_]\n",
    "\n",
    "\n",
    "# df = pd.read_csv('./data/winemag-data-130k-v2_cleaned.csv')\n",
    "# df['description_cleaned'] = df['description'].progress_apply(lambda x: pre_process(x))\n",
    "# df['description_adj_cleaned'] = df['description'].progress_apply(get_adjectives)\n",
    "# df['description_noun_cleaned'] = df['description'].progress_apply(lambda x: get_adjectives(x, tag_ = 'NN'))\n",
    "# df.to_csv('./data/adjectives_nouns.csv')"
   ]
  },
  {
   "cell_type": "code",
   "execution_count": null,
   "id": "faf9d0a3-8ae8-4187-8f7f-3d40793971ea",
   "metadata": {},
   "outputs": [],
   "source": []
  },
  {
   "cell_type": "code",
   "execution_count": 3,
   "id": "7cb93d2f-adbf-4bf4-8a68-e20501699c55",
   "metadata": {},
   "outputs": [],
   "source": [
    "tqdm.pandas()\n",
    "\n",
    "df = pd.read_csv('./data/adjectives_nouns.csv')\n",
    "df['description_adj_cleaned'] = df['description_adj_cleaned'].apply(lambda x: ast.literal_eval(x))\n",
    "df['description_noun_cleaned'] = df['description_noun_cleaned'].apply(lambda x: ast.literal_eval(x))"
   ]
  },
  {
   "cell_type": "code",
   "execution_count": 4,
   "id": "b35d388b-a5d1-47f2-b7eb-3c962ee7227f",
   "metadata": {},
   "outputs": [],
   "source": [
    "from collections import defaultdict\n",
    "\n",
    "def counts(df_col):\n",
    "    cc = defaultdict(int)\n",
    "    \n",
    "    def fun(x):\n",
    "        for i in x:\n",
    "            cc[i] += 1\n",
    "        return True\n",
    "    df_col.progress_apply(lambda x: fun(x) )\n",
    "    \n",
    "    return sorted(cc.items(), key=lambda x:x[1], reverse=True)\n",
    "\n",
    "def percent_range(col_name, df_=df, N = 5):\n",
    "    percent = [(i+1) * (1.0/N) for i in range(N-1)]\n",
    "    x_percentile = df_[col_name].describe(percentiles=percent)\n",
    "    \n",
    "    if N %2 == 1:\n",
    "        x_percentile = x_percentile.drop(index=['50%'])\n",
    "    \n",
    "    ranges = x_percentile[3:].values\n",
    "    return ranges\n",
    "\n",
    "def counts_table(df, col_name, common_filter=0):\n",
    "    df['points_range'] = pd.cut(df[\"points\"], percent_range(\"points\"))\n",
    "    \n",
    "    common_words = set([i[0] for i in counts(df[col_name])[:common_filter] ])\n",
    "    \n",
    "    return df.groupby('points_range')[col_name].apply(lambda x: counts(x)).apply(lambda x: [i for i in x if i[0] not in common_words])"
   ]
  },
  {
   "cell_type": "code",
   "execution_count": 5,
   "id": "9aa111c0-f7b8-409e-9682-a8fdd1a86a2d",
   "metadata": {},
   "outputs": [
    {
     "name": "stderr",
     "output_type": "stream",
     "text": [
      "100%|██████████████████████████████████████████████████████████████████████| 129971/129971 [00:00<00:00, 874770.75it/s]\n",
      "100%|████████████████████████████████████████████████████████████████████████| 34163/34163 [00:00<00:00, 991839.13it/s]\n",
      "100%|████████████████████████████████████████████████████████████████████████| 34140/34140 [00:00<00:00, 912118.85it/s]\n",
      "100%|████████████████████████████████████████████████████████████████████████| 12226/12226 [00:00<00:00, 930089.61it/s]\n",
      "100%|████████████████████████████████████████████████████████████████████████| 26769/26769 [00:00<00:00, 904026.05it/s]\n",
      "100%|████████████████████████████████████████████████████████████████████████| 22276/22276 [00:00<00:00, 860009.72it/s]\n"
     ]
    }
   ],
   "source": [
    "adjs = counts_table(df, 'description_adj_cleaned',common_filter=20)"
   ]
  },
  {
   "cell_type": "code",
   "execution_count": 6,
   "id": "ebae84db-92f5-4e6a-8927-11445b1c67f3",
   "metadata": {},
   "outputs": [],
   "source": [
    "def draw_fig(ct, title_ = 'Top Flavors', save=True, topk=5, max_=1):\n",
    "    uniques = set()\n",
    "    def fun(x):\n",
    "        for i in x:\n",
    "            uniques.add(i[0])\n",
    "        return True\n",
    "    ct.apply(lambda x: fun(x))\n",
    "    \n",
    "    custom_palette = {i:j for i,j in zip(uniques, sns.color_palette(cc.glasbey, n_colors=len(uniques))) }\n",
    "    #print(custom_palette)\n",
    "    \n",
    "    fig, axs = plt.subplots(1,len(ct),figsize = (3*len(ct),5))\n",
    "    first = True\n",
    "    for ax, g_id in zip(axs,ct.index):\n",
    "        df_tmp = pd.DataFrame(ct[g_id], columns = ['name','value'])[:topk]\n",
    "        df_tmp['value'] = df_tmp['value']/(len(df)//len(ct))\n",
    "        plot_ = sns.barplot(data=df_tmp, y='name', x='value', ax=ax, orient='h', palette=custom_palette)\n",
    "        plot_.set(title=str(g_id))\n",
    "        plot_.set(xlabel=None)\n",
    "        plot_.set(ylabel=None)\n",
    "        plot_.set(xlim=(0, max_))\n",
    "        if first:\n",
    "            first = False\n",
    "\n",
    "        else:\n",
    "            #plot_.set(yticklabels=[])\n",
    "            first = first\n",
    "\n",
    "    fig.suptitle(title_, fontsize=14)\n",
    "    #fig.text(0.5, 0.0, 'common X', ha='center')\n",
    "    fig.text(0.5, 0.0, 'Frequency', ha='center')\n",
    "    plt.tight_layout()\n",
    "    \n",
    "    if save:\n",
    "        plt.savefig(f'./{title_}.jpg',dpi=300)\n",
    "    \n",
    "    plt.show()\n",
    "    \n",
    "def draw_fig_new(ct, title_ = 'Top Flavors', save=True, topk=5, max_=1):\n",
    "    for i in range(len(ct)):\n",
    "        df_tmp = pd.DataFrame(ct.iloc[i], columns = ['name','value'])[:topk]\n",
    "        df_tmp['value'] = df_tmp['value']/(len(df)//len(ct))\n",
    "        sns.barplot(data=df_tmp, y = 'name', x='value', orient='h')\n",
    "        "
   ]
  },
  {
   "cell_type": "code",
   "execution_count": 8,
   "id": "eceda843-38fc-41bf-823a-404c799404a9",
   "metadata": {},
   "outputs": [
    {
     "data": {
      "image/png": "[encoded data removed]",
      "text/plain": [
       "<Figure size 1080x360 with 5 Axes>"
      ]
     },
     "metadata": {
      "needs_background": "light"
     },
     "output_type": "display_data"
    }
   ],
   "source": [
    "draw_fig(adjs, title_ = 'Top Descriptive Words', save=True, topk=10, max_ = 0.12)"
   ]
  },
  {
   "cell_type": "code",
   "execution_count": null,
   "id": "be7b1797-f4b4-48ad-aaa4-ef5da4392dd2",
   "metadata": {},
   "outputs": [],
   "source": []
  }
 ],
 "metadata": {
  "kernelspec": {
   "display_name": "Python 3 (ipykernel)",
   "language": "python",
   "name": "python3"
  },
  "language_info": {
   "codemirror_mode": {
    "name": "ipython",
    "version": 3
   },
   "file_extension": ".py",
   "mimetype": "text/x-python",
   "name": "python",
   "nbconvert_exporter": "python",
   "pygments_lexer": "ipython3",
   "version": "3.8.13"
  }
 },
 "nbformat": 4,
 "nbformat_minor": 5
}
