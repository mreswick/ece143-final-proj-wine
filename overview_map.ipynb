{
 "cells": [
  {
   "cell_type": "code",
   "execution_count": 2,
   "metadata": {},
   "outputs": [],
   "source": [
    "import random\n",
    "import pandas as pd\n",
    "import numpy as np\n",
    "import sqlite3 as sl\n",
    "from database import db_constants\n",
    "# Inline matplotlib (keep charts in this notebook)\n",
    "%matplotlib inline \n",
    "import matplotlib.pyplot as plt\n",
    "import seaborn as sns\n",
    "import warnings\n",
    "warnings.filterwarnings('ignore')\n",
    "\n",
    "WINE_INIT_DB_NAME = db_constants.WINE_INIT_DB_NAME\n",
    "WINE_INIT_PATH_TO_DB = 'database/' + WINE_INIT_DB_NAME\n",
    "con = sl.connect(WINE_INIT_PATH_TO_DB)\n",
    "sql_cmd = \"SELECT * FROM wine_init\"\n",
    "df = pd.read_sql_query(sql_cmd, con, index_col = 'index')\n",
    "con.close()\n",
    "\n",
    "df = df[df['price'] <= 1000]\n",
    "df_countryMeanPoints = df.groupby(\"country\").agg({'points':'mean'}).sort_values(by = 'points',ascending = False)\n",
    "df_countryMeanPoints = df_countryMeanPoints.reset_index()\n",
    "df_top3Country = df[df[\"country\"].str.contains(\"US|France|Italy\")==True]"
   ]
  },
  {
   "cell_type": "code",
   "execution_count": 3,
   "metadata": {},
   "outputs": [
    {
     "name": "stdout",
     "output_type": "stream",
     "text": [
      "[{'name': 'California', 'value': 36103}, {'name': 'Washington', 'value': 8583}, {'name': 'Oregon', 'value': 5359}, {'name': 'New York', 'value': 2676}, {'name': 'Virginia', 'value': 770}, {'name': 'Idaho', 'value': 190}, {'name': 'Michigan', 'value': 111}, {'name': 'America', 'value': 95}, {'name': 'Texas', 'value': 93}, {'name': 'Colorado', 'value': 68}, {'name': 'New Mexico', 'value': 45}, {'name': 'Arizona', 'value': 40}, {'name': 'Missouri', 'value': 33}, {'name': 'North Carolina', 'value': 23}, {'name': 'Pennsylvania', 'value': 18}, {'name': 'Ohio', 'value': 12}, {'name': 'New Jersey', 'value': 8}, {'name': 'Massachusetts', 'value': 7}, {'name': 'Washington-Oregon', 'value': 7}, {'name': 'Illinois', 'value': 6}, {'name': 'Iowa', 'value': 4}, {'name': 'Nevada', 'value': 4}, {'name': 'Vermont', 'value': 3}, {'name': 'Connecticut', 'value': 3}, {'name': 'Kentucky', 'value': 1}, {'name': 'Rhode Island', 'value': 1}, {'name': 'Hawaii', 'value': 1}]\n",
      "[{'name': 'Rhode Island', 'value': 90.0}, {'name': 'Oregon', 'value': 89.05374136965852}, {'name': 'Washington', 'value': 88.95141558895492}, {'name': 'California', 'value': 88.62944907625405}, {'name': 'Washington-Oregon', 'value': 88.42857142857143}, {'name': 'New York', 'value': 87.18124065769805}, {'name': 'Hawaii', 'value': 87.0}, {'name': 'Idaho', 'value': 86.60526315789474}, {'name': 'America', 'value': 86.50526315789473}, {'name': 'Michigan', 'value': 86.15315315315316}, {'name': 'Colorado', 'value': 86.11764705882354}, {'name': 'Virginia', 'value': 85.61948051948052}, {'name': 'Texas', 'value': 85.21505376344086}, {'name': 'Arizona', 'value': 84.875}, {'name': 'Massachusetts', 'value': 84.85714285714286}, {'name': 'North Carolina', 'value': 84.56521739130434}, {'name': 'Pennsylvania', 'value': 84.55555555555556}, {'name': 'Illinois', 'value': 84.5}, {'name': 'Vermont', 'value': 84.33333333333333}, {'name': 'Nevada', 'value': 84.25}, {'name': 'Ohio', 'value': 84.08333333333333}, {'name': 'Connecticut', 'value': 84.0}, {'name': 'New Jersey', 'value': 84.0}, {'name': 'New Mexico', 'value': 83.95555555555555}, {'name': 'Missouri', 'value': 83.33333333333333}, {'name': 'Iowa', 'value': 83.0}, {'name': 'Kentucky', 'value': 83.0}]\n"
     ]
    }
   ],
   "source": [
    "df_us_counts=df_top3Country[df_top3Country['country']=='US']\n",
    "us_province=list(df_us_counts['province'].value_counts().index)\n",
    "us_count=list(df_us_counts['province'].value_counts())\n",
    "data=[us_province,us_count]\n",
    "a=\"'name'\"\n",
    "b=\"'value'\"\n",
    "CountsPerProvince=[{eval(a):data[0][i],eval(b):data[1][i]} for i in range(len(us_province))]\n",
    "#data:\n",
    "print(CountsPerProvince)\n",
    "#result:\n",
    "#https://echarts.apache.org/examples/en/editor.html?c=map-usa&code=LYTwwgFghgTgLgOgM4QPYHcAyqoBMCWAdgOYAUAlANwBQAJAsQKZykBKA8uwCoD6ACgEEuACQAEAalEByAPS4ocKDKhIkzGU1QyAqgGUBCAFZJUhKQBpRAMwCuhAMZx8p0aRtIoAKROFyogN7UoqKgkLCIEPi4jNh4RGRUQaKM9tDwSAgwjMT4SHCMMACyUAAOpFJ6Ahai7l4-loHBwQIANioA1lAAXAFJTaItjFZwPQC0AIwAzOPmfU1wqCU9AEwArLP9wehRcBA946tzAL4bTcJQ6FD4-D2Nm4PDY-PjAAyn_QtLossAHO9N21wux6h36JzmUj4NgKC1ErHw9lQUluc2CDxGolGAHYAGz_YKfFZ41GiQHA77HJJHRLBRZOFwAXl6H3wcEGKM2onyAA8MVIAOpERhwxgAN3wjHQojAqDscCQoiIokqUmO_wWqBaTi-dw-MHwxCYMB6UlZjGAFhJKAwABFGG0QD03iS4DAoIQkKznIQbTY3fTCE6EMs1XNxUgbFAWsUdST0Sb9cQIHBLZzgER9viQlBuT1JjjXpMs0RWO6mBzOaJES1UMbRABtEn9KQAYmm-YAnKtU5Xgq2ACyrLGrABG_Z7vdbWP7eFw4wnldbUBHuA7jA7C85rcYLyskysP03m1bVlPVhHViPzZbVkYO47LyvTRP8kYBaffZv_ZxuH7kw_0gtrgWKTC8yxYgBS6rC8YE4qqvYALokuCnI8hi9ZSMIBoQNUUjYOgUgIVm9hRvYNhtCO7JcjA0Khh8qCaiOqC5symzWugPSutCWYyDItYSoQfKijCCJRke8bSOiR6EtInxHreCh-owFacvIigAGoShxASiFkeDsIQLSOtYUZqKIKGVlkeS1spAQWZyHjCQISAAJLAFA5Z2chdFNGo-qMEgPSNpyuqbIQUDALZFT6KIgqEMKrBilp0qyoJSBPnAIAlFF7klE-MA4MAnE0YwWbBLlJoqmVyTACU0CeoFrG9hR9oqb2ojscVtHteZTbmdVandA2_hSOFkXItIYBRvgVi1oQ-BQLhopRtCE35oWJwBKNEWMBNAoqJEJALGYlhSMtLSrT0PyrD8kybSNY27Sa7BZMQphLStT2iKskyrB293beNJoAHKSqIACatbtB9F1fcsOK4gDj17ZpMA5PNi2nedl2iFiWIvEjO17S58hoDDOPjA-hNA9IhQIpExDuuTX3POM1NfVIAiRfqJHMxNXbs3tXCMNyKh8z0HZ3Q0gMczKNZurgSJY59E04j8gsg2DhQiwiSvSNjX2Dhr0gCPqABepiY_rKs9P2BPS8jJp06osr6uLoiTFLW2O9IwO1rs0qwJqRBW2dNvfF7D1EyafCMIQHogC0y0Y-74zqw70fSOwkR62HsMTeMyzG1IoNSp4BRqCA7vp97mdSMUqhQKk7jMPK7tYsX_IHfEx2jC92Tvcr-c9B3Gc01ILktC0RCoLk7s4sXLkYKHBsTf2xeg8t8ju-vY8c-pBTAKYKZDzjkcy3tMrxykThkSf1vDx7xcANJx3ANj2O0VenyzxesGg0RRAuSQG0QguBU7F3OJca4ECkKciOHMOB5kaDlXAGkRAag4DsBKAGUgdJvSJGpJQIAA\n",
    "df_us_meanpoints=df_us_counts.groupby(\"province\").agg({'points':'mean'}).sort_values(by='points',ascending=False)\n",
    "df_us_meanpoints=df_us_meanpoints.reset_index()\n",
    "province=list(df_us_meanpoints[\"province\"])\n",
    "mean_points=list(df_us_meanpoints[\"points\"])\n",
    "data=[province,mean_points]\n",
    "MeanPointsPerProvince=[{eval(a):data[0][i],eval(b):data[1][i]} for i in range(len(us_province))]\n",
    "#data:\n",
    "print(MeanPointsPerProvince)\n",
    "#result\n",
    "#https://echarts.apache.org/examples/en/editor.html?c=map-usa&code=LYTwwgFghgTgLgOgM4QPYHcAyqoBMCWAdgOYAUAlANwBQAJAsQKZykBKA8uwCoD6ACgEEuACQAEAalEByAPS4ocKDKhIkzGU1QyAqgGUBCAFZJUhKQBpRAMwCuhAMZx8p0aRtIoAKROFyogN7UoqKgkLCIEPi4jNh4RGRUQaKM9tDwSAgwjMT4SHCMMACyUAAOpFJ6Ahai7l4-loHBwQIANioA1lAAXAFJTaItjFZwPQC0AIwAzOPmfU1wqCU9AEwArLP9wehRcBA946tzAL4bTcJQ6FD4-D2Nm4PDY-PjAAyn_QtLossAHO9N21wux6h36JzmUj4NgKC1ErHw9lQUluc2CDxGolGAHYAGz_YKfFZ41GiQHA77HJJHRLBRZOFwAXl6H3wcEGKM2onyAA8MVJCowoIRRHxUEQkKIiKJKlJjv8FqgWk4vncPjB8MQmDAelJWYxgBYSSgMAARRhtEA9N4kuAwIVIVnOQgmmx2-mEK0IZZyuYAN1yNigLWKKpJ6J16uIEDghs5wCIPR-kwQ1rjUG5PQAnC8U_jJYRWEKmBzOaJES1UNrRABtEn9KQAYmmkxxmdWsdLwUbABZVljVgAjbsdzuNrHdvC4cYj0uNqAD3CZxiZmecxuMF5WSZWH6rzaNqyHqwDqx7-sNqyMDfZs9NA_yRg46d589Wbs43Ddya3rsN3BYyYXmWLEf2kBsoFWF4gJxWVOwAXRJcFOR5DFqykYQNQgaopGwdApDgvN7CDewbDaAd2S5GBoR9D5UEVAdUAzZlNmNdAeltaE8xkGRK3wRhCD5X0YQRIM93DaR0T3QlpE-PdLwUV1GBLTl5EUAA1Pi2ICUQsjwdhCBaS1rCDNRRCQ0ssjySslICczOQ8ISBCQABJYAoGLWzEJopo1HVRgkB6WtOVVTZCCgYAbP5QVhVFcVbzgEASkitySlvGAcGAdiqMYF8QlKHUZVy_USmgB0AuYzsyPNZTO1EVisuo2qzLrMzctU7oa38KQwoi5FpFYNBolEZykDaQhcGw30g2hPrsxTE4Am68LGD6qR2CyYhTEm6aVsTTMU1WSZxymVscVWH5VmWBaup63bpAAdRUSISAWMxLCkKaWhmxMfgQNtxm7A5zp-Ntu0zK6GiW3qdTAIN8CsStCHwKBtq-u6fl-nFlkzbswZeXE1m7F5VmuqG7qkR6UHiV7RnW7Itvez7vtEDGEG7X4-wBjmsQByZSdu1aADlGHQUQAE1K3aVHmZ-LEEHGH5xmWImztxTMfmJ_nltW85LmuaX0bll4teh6RnPkNADb6n4cQQHFieWHFpj7EHu3HE3yYECL1SIq3E1tyDLqdg4sVdgCPdWwoEUiYghT9lnbYOZ3k6T8YcQjmHFUrPAkUZnbrcT8ZcTd4mMeWSZVm7DPpA0mAciRlG87R63Vjt8YcY11Z2-7TuIcWgWdS4RhuRUeOLq9A5iaOp3cZeG3q6kAR1QAL1MRvpCZ9HuwQWWSchgfpGKVQoFSdxmDgJAx-3i6efZm-ufn_ftZ1QXK12URYfSloiHXj788TbeqwzrLCLpMTMUwXhfirk_U2kJ-KECQCAFoU0G5XwQKsDBmCsGYPTjA8mzkWjf0IGKS-TcZaAIXmpAowBTAxjIVvBAkwmHMJYSwhewspryDQWsBe7BIi5w3v_Fm2856sLEXzPBq0wCmEICkJwJE6GCObgA-akiX4i1EJ4AoagQBoONmo6QwtRYCm5AiARf9lEs2TG2bBti9792fofXIJhXT4DHsmcR4iF7OQwL_Te1tkz6IcbAgA0vxOANh7DtF0fQgJ80EKciOHMBJZkaDBFCGkRAag4DsBKO6UgdInSJGpJQIAA\n"
   ]
  },
  {
   "cell_type": "code",
   "execution_count": 4,
   "metadata": {},
   "outputs": [
    {
     "name": "stdout",
     "output_type": "stream",
     "text": [
      "[{'name': 'United Kingdom', 'value': 91.55072463768116}, {'name': 'India', 'value': 90.22222222222223}, {'name': 'Austria', 'value': 90.18942101501072}, {'name': 'Germany', 'value': 89.83632075471698}, {'name': 'Canada', 'value': 89.37795275590551}, {'name': 'Hungary', 'value': 89.1655172413793}, {'name': 'China', 'value': 89.0}, {'name': 'France', 'value': 88.72984688133303}, {'name': 'Luxembourg', 'value': 88.66666666666667}, {'name': 'Italy', 'value': 88.61818611800875}, {'name': 'Australia', 'value': 88.59546643417612}, {'name': 'Switzerland', 'value': 88.57142857142857}, {'name': 'Morocco', 'value': 88.57142857142857}, {'name': 'United States', 'value': 88.56634232640424}, {'name': 'Israel', 'value': 88.49693251533742}, {'name': 'Portugal', 'value': 88.31671794871795}, {'name': 'New Zealand', 'value': 88.30841799709724}, {'name': 'Turkey', 'value': 88.08888888888889}, {'name': 'Slovenia', 'value': 88.0125}, {'name': 'Bulgaria', 'value': 87.93617021276596}, {'name': 'South Africa', 'value': 87.83139984532096}, {'name': 'Lebanon', 'value': 87.68571428571428}, {'name': 'Georgia', 'value': 87.67857142857143}, {'name': 'Serbia', 'value': 87.5}, {'name': 'Armenia', 'value': 87.5}, {'name': 'Croatia', 'value': 87.35211267605634}, {'name': 'Spain', 'value': 87.29073482428115}, {'name': 'Greece', 'value': 87.2885032537961}, {'name': 'Czech Rep.', 'value': 87.25}, {'name': 'Moldova', 'value': 87.20338983050847}, {'name': 'Cyprus', 'value': 87.18181818181819}, {'name': 'Slovakia', 'value': 87.0}, {'name': 'Macedonia', 'value': 86.83333333333333}, {'name': 'Uruguay', 'value': 86.75229357798165}, {'name': 'Argentina', 'value': 86.71033013844516}, {'name': 'Bosnia and Herz.', 'value': 86.5}, {'name': 'Chile', 'value': 86.49547101449275}, {'name': 'Romania', 'value': 86.4}, {'name': 'Mexico', 'value': 85.25714285714285}, {'name': 'Brazil', 'value': 84.65957446808511}, {'name': 'Ukraine', 'value': 84.07142857142857}, {'name': 'Peru', 'value': 83.5625}]\n",
      "[{'name': 'United States', 'value': 54264}, {'name': 'France', 'value': 17764}, {'name': 'Italy', 'value': 16914}, {'name': 'Spain', 'value': 6573}, {'name': 'Portugal', 'value': 4875}, {'name': 'Chile', 'value': 4416}, {'name': 'Argentina', 'value': 3756}, {'name': 'Austria', 'value': 2798}, {'name': 'Australia', 'value': 2294}, {'name': 'Germany', 'value': 2120}, {'name': 'New Zealand', 'value': 1378}, {'name': 'South Africa', 'value': 1293}, {'name': 'Israel', 'value': 489}, {'name': 'Greece', 'value': 461}, {'name': 'Canada', 'value': 254}, {'name': 'Hungary', 'value': 145}, {'name': 'Bulgaria', 'value': 141}, {'name': 'Romania', 'value': 120}, {'name': 'Uruguay', 'value': 109}, {'name': 'Turkey', 'value': 90}, {'name': 'Georgia', 'value': 84}, {'name': 'Slovenia', 'value': 80}, {'name': 'Croatia', 'value': 71}, {'name': 'Mexico', 'value': 70}, {'name': 'United Kingdom', 'value': 69}, {'name': 'Moldova', 'value': 59}, {'name': 'Brazil', 'value': 47}, {'name': 'Lebanon', 'value': 35}, {'name': 'Morocco', 'value': 28}, {'name': 'Peru', 'value': 16}, {'name': 'Ukraine', 'value': 14}, {'name': 'Serbia', 'value': 12}, {'name': 'Czech Rep.', 'value': 12}, {'name': 'Macedonia', 'value': 12}, {'name': 'Cyprus', 'value': 11}, {'name': 'India', 'value': 9}, {'name': 'Switzerland', 'value': 7}, {'name': 'Luxembourg', 'value': 6}, {'name': 'Bosnia and Herz.', 'value': 2}, {'name': 'Armenia', 'value': 2}, {'name': 'Slovakia', 'value': 1}, {'name': 'China', 'value': 1}]\n",
      "[{'name': 'Switzerland', 'value': 85.28571428571429}, {'name': 'United Kingdom', 'value': 51.68115942028985}, {'name': 'Germany', 'value': 42.25754716981132}, {'name': 'Hungary', 'value': 40.648275862068964}, {'name': 'France', 'value': 39.93267282143661}, {'name': 'Italy', 'value': 39.663769658271256}, {'name': 'United States', 'value': 36.53704113224237}, {'name': 'Canada', 'value': 35.71259842519685}, {'name': 'Australia', 'value': 35.43766346992153}, {'name': 'Israel', 'value': 31.768916155419223}, {'name': 'Lebanon', 'value': 30.685714285714287}, {'name': 'Austria', 'value': 30.380629020729092}, {'name': 'Spain', 'value': 28.215274608245853}, {'name': 'New Zealand', 'value': 26.93178519593614}, {'name': 'Mexico', 'value': 26.785714285714285}, {'name': 'Uruguay', 'value': 26.40366972477064}, {'name': 'Portugal', 'value': 26.21825641025641}, {'name': 'Croatia', 'value': 25.450704225352112}, {'name': 'Slovenia', 'value': 24.8125}, {'name': 'South Africa', 'value': 24.668986852281517}, {'name': 'Turkey', 'value': 24.633333333333333}, {'name': 'Argentina', 'value': 24.510117145899894}, {'name': 'Serbia', 'value': 24.5}, {'name': 'Czech Rep.', 'value': 24.25}, {'name': 'Brazil', 'value': 23.76595744680851}, {'name': 'Luxembourg', 'value': 23.333333333333332}, {'name': 'Greece', 'value': 22.364425162689805}, {'name': 'Chile', 'value': 20.786458333333332}, {'name': 'Morocco', 'value': 19.5}, {'name': 'Georgia', 'value': 19.321428571428573}, {'name': 'Peru', 'value': 18.0625}, {'name': 'China', 'value': 18.0}, {'name': 'Moldova', 'value': 16.74576271186441}, {'name': 'Cyprus', 'value': 16.272727272727273}, {'name': 'Slovakia', 'value': 16.0}, {'name': 'Macedonia', 'value': 15.583333333333334}, {'name': 'Romania', 'value': 15.241666666666667}, {'name': 'Bulgaria', 'value': 14.645390070921986}, {'name': 'Armenia', 'value': 14.5}, {'name': 'India', 'value': 13.333333333333334}, {'name': 'Bosnia and Herz.', 'value': 12.5}, {'name': 'Ukraine', 'value': 9.214285714285714}]\n"
     ]
    }
   ],
   "source": [
    "df.replace(\"US\",\"United States\",inplace=True)\n",
    "df.replace(\"England\",\"United Kingdom\",inplace=True)\n",
    "df.replace(\"Czech Republic\",\"Czech Rep.\",inplace=True)\n",
    "df.replace(\"Bosnia and Herzegovina\",\"Bosnia and Herz.\",inplace=True)\n",
    "df_countryMeanPoints = df.groupby(\"country\").agg({'points':'mean'}).sort_values(by = 'points',ascending = False)\n",
    "df_countryMeanPoints = df_countryMeanPoints.reset_index()\n",
    "df_countryMeanPrice = df.groupby(\"country\").agg({'price':'mean'}).sort_values(by = 'price',ascending = False)\n",
    "df_countryMeanPrice = df_countryMeanPrice.reset_index()\n",
    "\n",
    "country=list(df_countryMeanPoints['country'])\n",
    "points=list(df_countryMeanPoints['points'])\n",
    "data=[country,points]\n",
    "a=\"'name'\"\n",
    "b=\"'value'\"\n",
    "MeanPointsPerCountry=[{eval(a):data[0][i],eval(b):data[1][i]} for i in range(len(country))]\n",
    "#data:\n",
    "print(MeanPointsPerCountry)\n",
    "#result:\n",
    "#https://echarts.apache.org/examples/en/editor.html?c=map-usa&code=LYTwwgFghgTgLgOgM4QPYHcAyqoBMCWAdgOYAUAlANwBQAJAsQKZykBKA8uwCoD6ACgEEuACQAEAalEByAPS4ocKDKhIkzGU1Qz0qGABtcCAFZJUhKQBpRAMwCuhAMZx8Z0aVtIoAKVOFyogG9qUVFQSFhECHxcRmw8IjIqYNFGB2h4JAQYRmJ8JDhGGABZKAAHUikAVQBlAUtRD29fKyCQkIE9FQBrKAAuQOS20T1Gazh-gFoARgBmKYtBtrhUUv6AJgBWBaGQ9Gi4CH6pjcWAX2224Sh0KHx8ftadkbHJqamABguh5dXRNYAOL5tPa4A79E5Dc6LKR8WyFZaiVj4ByoKQPRYhZ7jUQTADsADYgSEfutCRjRCCwX8zslTkkQitnK4ALwDb74OAjdE7UQFAAe2KkRUYUEIoj4qCIcCQogA6roDCDGJZyVj-lIYPhiBA4FIzkDlqg9M5fo9vpriEwYOqOYxgCqeSgMAARRidED9T7kuAwUVIDkuQjO2y-pmET0INb6xYANzytigehKptVo0FFp1Dp2wCI_QAnGsiaEoHz-v8ZkWiKxRUxuTzRCi9Lp-gBtclDKQAYjmM3xeY2Wfr0k7ABYNriNgAjEeD-td3EjvC4KaznldqCT3B5xh51c7LuMd7WGbWf57jud6xX6yT6zntpd6yMQ95973kKP-SMfErosX6wjviuAjjM77DrguIzO8ay4mB64bO80H4nqQ4ALrklCPL8tiLZSMIWoQPUUjYOgUioUWDiJg4tidJOXK8jAcLRt8qBGpOqClmyOxOug_Q-nCRYyDIuj4IwhCCjG8LIome5qtIWJ7iS0g_HuT4KCGjB1jy8iKAAaqJvGBKI2R4OwhB6B6NiJmooiYfW2T5LommBHZjpQJJAhIAAksAUC1i5GHMW0aiaowSCtuSZo7IQUDAM5QoimKEpSkg95wCApTxb5pT3jAODAHxjGMH-xa_FUtT3napTQP64VcUOtFulpQ6iDxhVMS1tntrZJU6X0ogtgEUgxXFaLSJUhC2rgogANIJLgqD2lYUgxomcJjXmUwIBsCG4msgEzAS_xvPi5yBMNsXKuqXmEAQUBEatejrfm7yRms70fZ970zGdQ0jVd0gCB4Pr4Pdy2Pc9oivggUz_HmI5rB8xzvB8e2_Rdo3qgA4oUvmECAD1rQDcMIOW-IzGs7wTiOuJTH2_zo_9Y1SGAop4GD0gQ8TeYIIduL9jBO2vjtUyM5dzPCPYxCwAT4NE2NJN0yLe0jrM_M_S0GMAyzUQxYTT3cwg7xi5j0gAGK-o4ypywbCv_Age15v8gH_MdMzu-8GvnUz6qYLYfJ2uxIbEPrkOuwg-KR1H0dR7iJva15igWaHxP2z-x3_D-sOIf8E7x8zQP5L6eigyndvbf2gH4iBqsElMaz5-q1R7HAABehSdLdZdlvb45TAj_x9wP46N9IRS6KgDgot3ojh0PALz4Pceaz742TQU03VIoBSpTbYe95HMwIxT1fvAjI6j1IXlIL6boz-HI55n2FMbMc7sLg3K_i-qErwLY0t6HvvbOY-Jab8xHLnKY_MNiXwAHKMHQKIAAWiKTuuAgG83eM7KBeY8y4neHg_al8uAhi6IwWWnN5Y9yNq7WhdDaF5kvtUJsklJocxWlQ2e9sUabEvgAIRotLTU7CuYK1xAgPMvYoHQXrgSDYT8mGoFsAcUQAhrCakovfcR5ZZi4OdhsCmBDTpf1NsRRgk5RRmC0RHJe_cF60wHpfHGuhcgiM4bnCOuJbHDwcV7P639pDVEKJOUue9ibiJgSY7WAgYBxTYdYyJ3sAkszygoUJlDbZlnETMDYiN66gPxO8DY5ML5ROZtUUotxzBhLEZGV8kEIH7QBG8RJ_jTFY2yKka2GSw7iIBIPT2mxDpP1FmU9UYB25pERIwUoCBrG8LGWPI0C1VrzM9jMOG5YilYJppfMAGVGK7x6eEmGGdYbnLOYwxZUhmGoFWl0dJHDMmz3Ecba5JQHCMAWvEmpZZ8Sk3doCoFQLL6VEYsQBMFCnlh3-ROd6kjxz82OviVpWsC4wCYOJIgbjnmZwdh8D2sxnZjjpvw1ASA2GiFFNNYQhRW5zN-bPf5qLV463wCMe-_zH4bBpkjEcj9BaX1YItUUjzRF_IQKUpJpjhR8mRKiRlg9IyLxVfw30rd2X3xHBHeR45-X4n-Fg1-ozpXa0qF0X0RBunQuJtqqmdjvH2MvnwQoth74zG2viXh6EeSnEWD62yNAQhhHSIgNQcB2ClDDKQRkgYkh0koEAA\n",
    "\n",
    "country=list(df['country'].value_counts().index)\n",
    "counts=list(df['country'].value_counts().values)\n",
    "data=[country,counts]\n",
    "CountsPerCountry=[{eval(a):data[0][i],eval(b):data[1][i]} for i in range(len(country))]\n",
    "print(CountsPerCountry)\n",
    "#result:\n",
    "#https://echarts.apache.org/examples/en/editor.html?c=map-usa&code=LYTwwgFghgTgLgOgM4QPYHcAyqoBMCWAdgOYAUAlANwBQAJAsQKZykBKA8uwCoD6ACgEEuACQAEAalEByAPS4ocKDKhIkzGU1Qz0qGABtcCAFZJUhKQBpRAMwCuhAMZx8Z0aVtIoAKVOFyogG9qUVFQSFhECHxcRmw8IjIqYNFGB2h4JAQYRmJ8JDhGGABZKAAHUikAVQBlAUtRD29fKyCQkIE9FQBrKAAuQOS20T1Gazh-gFoARgBmKYtBtrhUUv6AJgBWBaGQ9Gi4CH6pjcWAX2224Sh0KHx8ftadkbHJqamABguh5dXRNYAOL5tPa4A79E5Dc6LKR8WyFZaiVj4ByoKQPRYhZ7jUQTADsADYgSEfutCRjRCCwX8zslTkkQitnK4ALwDb74OAjdE7UQFAAe2KkAHUiIxEYwAG74RjoURgVD2OBIURC3QGEGMSzkrH9KQwfDECBwKRnIHLVB6Zy_R7ffXEJgwXUcxjALU8lAYAAijE6IH6n3JcBgUEISA5LkIntswaZhH9CDWpsWUqQtigehK1u1o0FdqNbp2wCIRyJoSgfPBABY1vjK6WiKwQ0xuTzRCi9Lp-gBtclDKQAYjmM3xAE4NgXW9J-5WNriNgAjSsT1sD3GVvC4KbLnkDqDz3Ajxgj7c7AeMd7WGbWf4nvv96wP6zz6y3toD6yMc8j96vkLv-SMPiW6lne1iVviuCVjMv5TrguIzO8ay4jBu4bO8iH4iak4ALrklCPL8tiXZSMIBoQPUUjYOgUjYaWDjpg4tidPOXK8jAcJJt8qAWvOqAVmyOweug_RBnCpYyDIujSoQgoSvCyLpieOrSFiJ4ktIPwnh-CjRowLY8vIigAGrSsJgSiNkeDsIQeh-jY6ZqKI-Gttk-S6HpgTOe6UByQISAAJLAFAzaeXhnFtGo-qMEg3bkjaOyEFAwAecKorilKMpygqMlIK-cAgKUKVBaUr4wDgwAiexjAgWWvxVLUr4uqU0BhjFAmTsxPr6ZOohCZVHE9U5vZOTVhl9KIXYBFIiXJWi0iVIQzq4KI1SKAUuVWFIErpnCc0bNWtbnIE01JZquoAGLBo4mqbdtei7UcuIEpWR1TTNZ3SP5ii2RRd0PaIUyjlML0tCds26tUpS3OYt07R9-KzjMr1gx9MK6HAtjEIpsP3R9lb_HOyPvXNUiQPgIy_XDc2VpWgNE6dJMCDATAyUQUCU7jc0zHO-L0-D0gCB4Qb4OzOP_UhI7_HzqOC_kwZ6CLHPi2sI4g8dxO6gA4oUQWECASsfWsUxrO80skwAcplABajDpiGuAG3Nsy4lLoMa9I1QKgcogCNY-r0Y7Rwq0jbsM7q_lIMGPqB6I-MjmbWvZKkN3SH9eNAQn0hgCGeCi6nVPrPtmckfYWMwPrYsfcDGzFwAQkxZeK5XTu08XrCoLrTf55zQem6H_NVOxxBphX3f_R88f96jXDRl0jCj1tBeiN-xfa7ouR54vPeiP8atvWHHsdnJi2b2nc3_H36sH6TZUKF3W__biUzF0UjB8siqLN_0uKX_vA8LUtUQABpBIuAO4x1HC_C0YDtoxw2JPK-A9a7BgAF7kxjpWXExdMCMHnCGMwMcZg1yniTIouhUAOBRDHAExc-CFFsDHOmJDdSVC6MGUUjC94oxJtUQo8575nyDsXMAKDUgQHFKUBAjC1gvygA4RgYCT7SOEQVdiG0x5V2fswz6hACCnyXggv-qNqh7DgKI_Q9sY5YO0ZRWwfIXS8WjMQCBddUBIBPqIe2ohhCFBQVIr-fxi5M2SkogJMibHVCPlALoAil5aMQajMmiVGGnFwjyU4iw0lORoCEMI6REBqDgOwUosZSCMgjEkOklAgA\n",
    "country=list(df_countryMeanPrice['country'])\n",
    "price=points=list(df_countryMeanPrice['price'])\n",
    "data=[country,points]\n",
    "MeanPricePerCountry=[{eval(a):data[0][i],eval(b):data[1][i]} for i in range(len(country))]\n",
    "print(MeanPricePerCountry)\n",
    "#result:\n",
    "#https://echarts.apache.org/examples/en/editor.html?c=map-usa&code=LYTwwgFghgTgLgOgM4QPYHcAyqoBMCWAdgOYAUAlANwBQAJAsQKZykBKA8uwCoD6ACgEEuACQAEAalEByAPS4ocKDKhIkzGU1Qz0qGABtcCAFZJUhKQBpRAMwCuhAMZx8Z0aVtIoAKVOFyogG9qUVFQSFhECHxcRmw8IjIqYNFGB2h4JAQYRmJ8JDhGGABZKAAHUikAVQBlAUtRD29fKyCQkIE9FQBrKAAuQOS20T1Gazh-gFoARgBmKYtBtrhUUv6AJgBWBaGQ9Gi4CH6pjcWAX2224Sh0KHx8ftadkbHJqamABguh5dXRNYAOL5tPa4A79E5Dc6LKR8WyFZaiVj4ByoKQPRYhZ7jUQTADsADYgSEfutCRjRCCwX8zslTkkQitnK4ALwDb74OAjdE7UQFAAe2KkRUYUEIoj4MGRjFEAHVdAYQYxLOSsf0pJLiBA4FIzkDlqg9M5fo9vhqmDA1RzGMBlTyUBgACKMTogfqfclwGCipAclyEB22L1MwhuhBrXWLABueVsUD0JWNKtGgo1WttO2ARH6AE4iaEoHz-v8yTyiKxRUxuTzRCi9Lp-gBtclDKQAYjmM3x2Y26er0lbABYNriNgAjAe96tt3EDvC4KaTnltqCj3DZxjZxc7NuMd7WGbWf5blut6xn6yj6zHtpt6yMXfZ97XkK3-SMfELvMn6wD_G4AczM-_a4LiMzvGsuJAcuGzvOB-I6n2AC65JQjy_LYg2UjCPgmr1FI2DoFIiF5g4cYOLYnSjlyvIwHCEbfKgBqjqghZsjs9roP0npwnmMgyLo-CMIQgqRvCyJxluqrSFiW4ktIPxbneCiBowVY8vIigAGqCZxgSiNkeDsIQeiujYcZqKIqHVtk-S6KpgRWXaUCiQISAAJLAFAlYOSh9FtGokqMEgjbkiaOyEFAwD2UKIpihKUrXnAIClNFnmlNeMA4MAXG0YwX75r8VS1Ne1qlNAPrBWxfaUc6al9qIHE5XR9WWc2ln5RpfSiA2ARSBFUVotI1R7HAABehSdIQuB4ZGcZwoN_wbGGi24lMA4AsOa1rNm5yBH1kVKmqlSEFauCiAA0gkuCoDaVhSLNejzeCUwIPi_xvBs2breB_zZotu29f1h3SAA4oUnmECAM1zcD61hsOGwDqtXbvbMawA_tA1qsI9jELAUN3Q9T2iAO7yvQO_wQRsxZrO8b3ZviA4Y0Dg1SAAYl6jhKoTMODTM2YINmMxrPiuIAmsa2dh-zMHazbmKCZ0OPcD_OvfiMwEgz1MQVMmz4jLWPSMdp2iNUigFEgSvE52CAbBr7wDm8wtrOtGsG8DUhgKKeBQFbKtLatmx_etGxTAz_0tJjHsCB4npxvgvs88rfNLQBBLq7-2bZhLdvu3LSBes6ft8y9BK_VMH4bIjYdrGsMx52qmCMKOopmMX_Rga9K1bd363_LiDfSDH-SSon0hEyrZMzP8dPbeB7xi4-2eD1I1SlLc5hJ8TAJhscEG_u8lNDot9eRyzaoAHKMOgogAFoipN01b8DIuC3MuKLWHn2dmtK_CnyyJUTP0Gq_D-m0-7gI2ivSotFiCxgJuPXmpIECkyltmMWSNcR0yZmfWWao-C6DgLYPGeh25_HxLvSmGxGYfD1o7FeYBMoKATmQzYKCYJYPWpsGYGwJa6xXtUOsokTpj3ukgv4A4EDvU2AI1AtgDiiAENYSUpFWGSPxPTYsi1a7vVDgPXBhspBcEDF0RgCCxHJ3WOomYNjbF2LsSvAQMAmDCSIKIieIDJGh3eG8Vax8s6_RwXtc-Q1CijhYcAqxtsGHjTSIiRgpQEBqPhivAAQl6Ua-BSGRL-DMBABJPrDgHL-Gen8V6YFsHya0zFAzEFYXk-xjTbHowMR7EG2RUjc0QZYv4awECdmKZsCuItfozw2AwqIIxWFkw_ozamTThZ_10KgBwKIyFh2ia01mYNdC5HceIjZwse6QJWqfYJeDpB8EKLYdZ_wECz3GVstUkA3G3PuUsgwqBZrrIoTOYc-IdZTGLMUqYDDkq0UtjkiuYYxawogvC2FZzAYXNXkIqAXQIndOJtC94f8oAOEYNdER6ylrzIWbYoJyLDGsBuqKTFFjsVLRdhXDRrK2WizSRRPGo91nqKHPzWCWDs5h2LI4mAUViVQq8SvNyU16UeKOA08ldjKVR1Zqk1ASARGiFFGdYQhRRpJKhX0x55zDGVC6F6IgXSGXAwFhLCBfiNp-NOMhHkpxFhussjQEIYR0iIDUHAdgpRgykEZH6JIdJKBAA"
   ]
  },
  {
   "cell_type": "code",
   "execution_count": null,
   "metadata": {},
   "outputs": [],
   "source": []
  }
 ],
 "metadata": {
  "kernelspec": {
   "display_name": "Python 3 (ipykernel)",
   "language": "python",
   "name": "python3"
  },
  "language_info": {
   "codemirror_mode": {
    "name": "ipython",
    "version": 3
   },
   "file_extension": ".py",
   "mimetype": "text/x-python",
   "name": "python",
   "nbconvert_exporter": "python",
   "pygments_lexer": "ipython3",
   "version": "3.9.12"
  }
 },
 "nbformat": 4,
 "nbformat_minor": 1
}
