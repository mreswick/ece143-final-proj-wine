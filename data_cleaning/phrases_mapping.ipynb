{
 "cells": [
  {
   "cell_type": "code",
   "execution_count": 31,
   "id": "dbbea37f-3d84-4f01-ae6d-b4a4a395ae8e",
   "metadata": {},
   "outputs": [
    {
     "name": "stdout",
     "output_type": "stream",
     "text": [
      "The autoreload extension is already loaded. To reload it, use:\n",
      "  %reload_ext autoreload\n"
     ]
    }
   ],
   "source": [
    "%load_ext autoreload\n",
    "%autoreload 2\n",
    "%reload_ext autoreload\n",
    "import pandas as pd\n",
    "from phrases_mapping import *\n",
    "\n",
    "df = pd.read_csv('../data/winemag-data-130k-v2.csv', index_col=0)"
   ]
  },
  {
   "cell_type": "code",
   "execution_count": 32,
   "id": "8b74df57-9060-4c83-b40e-1001cb698a92",
   "metadata": {},
   "outputs": [
    {
     "data": {
      "text/plain": [
       "Index(['country', 'description', 'designation', 'points', 'price', 'province',\n",
       "       'region_1', 'region_2', 'taster_name', 'taster_twitter_handle', 'title',\n",
       "       'variety', 'winery'],\n",
       "      dtype='object')"
      ]
     },
     "execution_count": 32,
     "metadata": {},
     "output_type": "execute_result"
    }
   ],
   "source": [
    "df.columns"
   ]
  },
  {
   "cell_type": "code",
   "execution_count": 33,
   "id": "d7491398-24ad-4505-93a4-bed609d68f5a",
   "metadata": {},
   "outputs": [
    {
     "name": "stdout",
     "output_type": "stream",
     "text": [
      "Loading existing mapping dictionary\n"
     ]
    }
   ],
   "source": [
    "df['variety_cleaned'] = mapping_column(df['variety'], threshold=85, generic=False, logging=True)"
   ]
  },
  {
   "cell_type": "code",
   "execution_count": 34,
   "id": "cf93eb9d-3cbb-4cee-8c71-02dfbf96b099",
   "metadata": {},
   "outputs": [
    {
     "name": "stdout",
     "output_type": "stream",
     "text": [
      "Loading existing mapping dictionary\n"
     ]
    }
   ],
   "source": [
    "df['variety_generic'] = mapping_column(df['variety'], threshold=85, generic=True, logging=True)"
   ]
  },
  {
   "cell_type": "code",
   "execution_count": 35,
   "id": "f9c56263-4e4b-4e32-b765-ee75ea6e4103",
   "metadata": {},
   "outputs": [
    {
     "name": "stdout",
     "output_type": "stream",
     "text": [
      "Loading existing mapping dictionary\n"
     ]
    }
   ],
   "source": [
    "df['region_1_cleaned'] = mapping_column(df['region_1'], threshold=95, generic=False, logging=True)"
   ]
  },
  {
   "cell_type": "code",
   "execution_count": 36,
   "id": "05e498c7-8aeb-43fe-8cbd-806f513abfd1",
   "metadata": {},
   "outputs": [],
   "source": [
    "#df['region_2_cleaned'] = mapping_column(df['region_2'], threshold=95, generic=False, logging=True)"
   ]
  },
  {
   "cell_type": "code",
   "execution_count": 37,
   "id": "0932766b-8916-4334-831e-3dac637e4682",
   "metadata": {},
   "outputs": [],
   "source": [
    "#df['taster_name_cleaned'] = mapping_column(df['taster_name'], threshold=95, generic=False, logging=True)"
   ]
  },
  {
   "cell_type": "code",
   "execution_count": 38,
   "id": "7878dc63-2702-49ea-b94d-e7102cfb4a13",
   "metadata": {},
   "outputs": [
    {
     "name": "stdout",
     "output_type": "stream",
     "text": [
      "Loading existing mapping dictionary\n"
     ]
    }
   ],
   "source": [
    "df['winery_cleaned'] = mapping_column(df['winery'], threshold=95, generic=False, logging=True)"
   ]
  },
  {
   "cell_type": "code",
   "execution_count": 39,
   "id": "d6733af1-bac5-4eb9-b4c9-366ed4b83ac0",
   "metadata": {},
   "outputs": [],
   "source": [
    "#df['winery_generic'] = mapping_column(df['winery'], threshold=85, generic=True, logging=True)"
   ]
  },
  {
   "cell_type": "code",
   "execution_count": 41,
   "id": "62a71051-f352-4ea2-9f7b-b21e79be2d36",
   "metadata": {},
   "outputs": [],
   "source": [
    "df.to_csv('../data/winemag-data-130k-v2_cleaned.csv', index=False)"
   ]
  },
  {
   "cell_type": "code",
   "execution_count": null,
   "id": "17606720-a20f-4ed0-b051-5b57ae5c7463",
   "metadata": {},
   "outputs": [],
   "source": []
  }
 ],
 "metadata": {
  "kernelspec": {
   "display_name": "Python 3 (ipykernel)",
   "language": "python",
   "name": "python3"
  },
  "language_info": {
   "codemirror_mode": {
    "name": "ipython",
    "version": 3
   },
   "file_extension": ".py",
   "mimetype": "text/x-python",
   "name": "python",
   "nbconvert_exporter": "python",
   "pygments_lexer": "ipython3",
   "version": "3.8.13"
  }
 },
 "nbformat": 4,
 "nbformat_minor": 5
}
