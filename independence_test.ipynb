{
 "cells": [
  {
   "cell_type": "code",
   "execution_count": 1,
   "id": "6d0f7792-a894-413b-a087-e7f23aa0e749",
   "metadata": {},
   "outputs": [],
   "source": [
    "import pandas as pd\n",
    "import numpy as np"
   ]
  },
  {
   "cell_type": "code",
   "execution_count": 31,
   "id": "7f78ff4f-acf5-409c-ae09-b34df188e114",
   "metadata": {},
   "outputs": [
    {
     "data": {
      "text/plain": [
       "Index(['Unnamed: 0', 'country', 'description', 'designation', 'points',\n",
       "       'price', 'province', 'region_1', 'region_2', 'taster_name',\n",
       "       'taster_twitter_handle', 'title', 'variety', 'winery'],\n",
       "      dtype='object')"
      ]
     },
     "execution_count": 31,
     "metadata": {},
     "output_type": "execute_result"
    }
   ],
   "source": [
    "df_sum = pd.read_csv('./data/winemag-data-130k-v2.csv')\n",
    "df_sum.columns"
   ]
  },
  {
   "cell_type": "code",
   "execution_count": 22,
   "id": "72d66631-9cd8-4480-84ee-4dee85623a22",
   "metadata": {},
   "outputs": [],
   "source": [
    "variables = ['country', 'points', 'province', 'region_1', 'region_2', 'taster_name',\n",
    "       'taster_twitter_handle', 'variety']"
   ]
  },
  {
   "cell_type": "code",
   "execution_count": 24,
   "id": "61642770-a31d-42ff-9696-409d9de3ba4a",
   "metadata": {},
   "outputs": [],
   "source": [
    "def is_discrete(col_name, df=df_sum ):\n",
    "    first = df[col_name].iloc[0]\n",
    "    if isinstance(first,str):\n",
    "        return 0 # 0--discrete, 1--continue, -1-- just skip\n",
    "    elif isinstance(first,np.bool_):\n",
    "        return 0\n",
    "    elif isinstance(first,np.int64):\n",
    "        if (len(df[col_name].unique())>100):\n",
    "            return 1\n",
    "        else:\n",
    "            return 0\n",
    "    elif isinstance(first,np.float64):\n",
    "        return 1\n",
    "    elif isinstance(first,pd._libs.tslibs.timestamps.Timestamp):\n",
    "        return -1\n",
    "    \n",
    "    print(\"error___\",type(first))\n",
    "    assert False\n",
    "    \n",
    "def percent_range(col_name, df_=df_sum, N = 3):\n",
    "    percent = [(i+1) * (1.0/N) for i in range(N-1)]\n",
    "    x_percentile = df_[col_name].describe(percentiles=percent)\n",
    "    \n",
    "    if N == 3:\n",
    "        x_percentile = x_percentile.drop(index=['50%'])\n",
    "    \n",
    "    ranges = x_percentile[3:].values\n",
    "    return ranges\n",
    "\n",
    "ranges = percent_range(\"price\")\n",
    "from scipy import stats\n",
    "\n",
    "def indepedence_test(col_name):\n",
    "    df_tmp = df_sum[['price', col_name]].dropna()\n",
    "    \n",
    "    # separate to grid\n",
    "    df_tmp['range'] = pd.cut(df_tmp['price'], ranges)\n",
    "    \n",
    "    if is_discrete(col_name,df_tmp)==1: # considered as continueous\n",
    "        # get range\n",
    "        temp_range = percent_range(col_name, df_tmp) # min, max included\n",
    "        df_tmp['temp_range'] = pd.cut(df_tmp[col_name], temp_range)\n",
    "        pivot = df_tmp.pivot_table(index=['range'], columns=['temp_range'], aggfunc='size')\n",
    "    elif is_discrete(col_name,df_tmp)==0: # considered as discrete\n",
    "        pivot = df_tmp.pivot_table(index=['range'], columns=[col_name], aggfunc='size')\n",
    "    elif is_discrete(col_name,df_tmp)==-1:\n",
    "        # just skip\n",
    "        print(col_name,\"   skip\")\n",
    "        return None\n",
    "    else:\n",
    "        assert False # not implemented\n",
    "    \n",
    "    cols = np.array(pivot.columns)\n",
    "    tmp = pd.DataFrame(pivot.to_numpy(), columns = cols, index=np.array( pivot.index ))\n",
    "    # display(tmp)\n",
    "    \n",
    "    # independence test of chi-square\n",
    "    res = stats.chi2_contingency(tmp.to_numpy())\n",
    "    # display(res)\n",
    "    print(col_name, \"    chi(x^2)=\", res[0], \"    p-value=\", res[1])\n",
    "    return [res[0], res[1]]\n"
   ]
  },
  {
   "cell_type": "code",
   "execution_count": 29,
   "id": "3dfc6788-bcc2-4ea2-9a64-ae1bc30c267e",
   "metadata": {},
   "outputs": [
    {
     "name": "stdout",
     "output_type": "stream",
     "text": [
      "country     chi(x^2)= 11537.802420755355     p-value= 0.0\n",
      "points     chi(x^2)= 43032.181504008826     p-value= 0.0\n",
      "province     chi(x^2)= 26505.342859941386     p-value= 0.0\n",
      "region_1     chi(x^2)= 54693.097473815695     p-value= 0.0\n",
      "region_2     chi(x^2)= 12273.673062244845     p-value= 0.0\n",
      "taster_name     chi(x^2)= 12741.533449971726     p-value= 0.0\n",
      "taster_twitter_handle     chi(x^2)= 12129.770005126187     p-value= 0.0\n",
      "variety     chi(x^2)= 32089.11090622175     p-value= 0.0\n"
     ]
    }
   ],
   "source": [
    "independence = []\n",
    "for col_name in variables:\n",
    "    #print(col_name)\n",
    "    res = indepedence_test(col_name) \n",
    "    if res is not None:\n",
    "        independence.append(res+[col_name])\n",
    "\n",
    "for i in range(len(independence)):\n",
    "    tmp = independence[i]\n",
    "    independence[i] = [tmp[2], tmp[0], tmp[1]]"
   ]
  },
  {
   "cell_type": "code",
   "execution_count": 30,
   "id": "ea612c43-a163-4117-9212-21b24509ea42",
   "metadata": {},
   "outputs": [
    {
     "name": "stdout",
     "output_type": "stream",
     "text": [
      "╒═══════════════════════╤════════════════════╤═══════════╕\n",
      "│ Feature name          │   Chi-square value │   P-value │\n",
      "╞═══════════════════════╪════════════════════╪═══════════╡\n",
      "│ country               │            11537.8 │         0 │\n",
      "├───────────────────────┼────────────────────┼───────────┤\n",
      "│ points                │            43032.2 │         0 │\n",
      "├───────────────────────┼────────────────────┼───────────┤\n",
      "│ province              │            26505.3 │         0 │\n",
      "├───────────────────────┼────────────────────┼───────────┤\n",
      "│ region_1              │            54693.1 │         0 │\n",
      "├───────────────────────┼────────────────────┼───────────┤\n",
      "│ region_2              │            12273.7 │         0 │\n",
      "├───────────────────────┼────────────────────┼───────────┤\n",
      "│ taster_name           │            12741.5 │         0 │\n",
      "├───────────────────────┼────────────────────┼───────────┤\n",
      "│ taster_twitter_handle │            12129.8 │         0 │\n",
      "├───────────────────────┼────────────────────┼───────────┤\n",
      "│ variety               │            32089.1 │         0 │\n",
      "╘═══════════════════════╧════════════════════╧═══════════╛\n"
     ]
    }
   ],
   "source": [
    "from tabulate import tabulate\n",
    "table =[[\"Feature name\", \"Chi-square value\", \"P-value\"]] + independence\n",
    "print(tabulate(table, headers='firstrow', tablefmt='fancy_grid'))"
   ]
  },
  {
   "cell_type": "code",
   "execution_count": null,
   "id": "93fb2ec2-4953-472a-86bc-3f1324b670ca",
   "metadata": {},
   "outputs": [],
   "source": []
  }
 ],
 "metadata": {
  "kernelspec": {
   "display_name": "Python 3 (ipykernel)",
   "language": "python",
   "name": "python3"
  },
  "language_info": {
   "codemirror_mode": {
    "name": "ipython",
    "version": 3
   },
   "file_extension": ".py",
   "mimetype": "text/x-python",
   "name": "python",
   "nbconvert_exporter": "python",
   "pygments_lexer": "ipython3",
   "version": "3.8.13"
  }
 },
 "nbformat": 4,
 "nbformat_minor": 5
}
